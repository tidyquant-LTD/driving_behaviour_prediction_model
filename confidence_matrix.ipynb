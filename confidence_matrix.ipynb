{
 "cells": [
  {
   "cell_type": "markdown",
   "metadata": {},
   "source": [
    "<font size=\"+0.5\">Notebook for plotting confusion matrix and print precision and recall metrics<font>"
   ]
  },
  {
   "cell_type": "code",
   "execution_count": null,
   "metadata": {},
   "outputs": [],
   "source": [
    "import itertools\n",
    "import matplotlib.pyplot as plt\n",
    "import numpy as np\n",
    "import os\n",
    "import pandas as pd\n",
    "import pickle\n",
    "\n",
    "from scipy.signal import savgol_filter\n",
    "from sklearn.metrics import confusion_matrix, precision_score, recall_score"
   ]
  },
  {
   "cell_type": "markdown",
   "metadata": {},
   "source": [
    "<font size=\"+0.5\">Load scaler and encoder with which data was transformed when model was training<font>"
   ]
  },
  {
   "cell_type": "code",
   "execution_count": null,
   "metadata": {},
   "outputs": [],
   "source": [
    "with open('models/x_accelerometer.pcl', \"rb\") as file:\n",
    "    x_scaler = pickle.load(file)\n",
    "\n",
    "with open('models/y_accelerometer.pcl', \"rb\") as file:\n",
    "    y_scaler = pickle.load(file)\n",
    "\n",
    "with open('models/z_accelerometer.pcl', \"rb\") as file:\n",
    "    z_scaler = pickle.load(file)\n",
    "    \n",
    "with open(\"models/encoder.pcl\", \"rb\") as file:\n",
    "        encoder = pickle.load(file)"
   ]
  },
  {
   "cell_type": "code",
   "execution_count": null,
   "metadata": {},
   "outputs": [],
   "source": [
    "label_dict = {\"Aggressive acceleration\": \"critical\",\n",
    "             \"Aggressive breaking\": \"critical\", \n",
    "             \"Aggressive left lane change\": \"significant\",\n",
    "             \"Aggressive left turn\": \"significant\",\n",
    "             \"Aggressive right lane change\": \"significant\",\n",
    "             \"Aggressive right turn\": \"significant\",\n",
    "             \"Non-aggressive event\": \"negligible\"}"
   ]
  },
  {
   "cell_type": "code",
   "execution_count": null,
   "metadata": {},
   "outputs": [],
   "source": [
    "def change_label(row):\n",
    "    return label_dict[row['event']]"
   ]
  },
  {
   "cell_type": "code",
   "execution_count": null,
   "metadata": {},
   "outputs": [],
   "source": [
    "# Function for plotting confusion matrix\n",
    "def plot_confusion_matrix(cm, title='Confusion matrix', cmap=plt.cm.Blues):\n",
    "    plt.imshow(cm, interpolation='nearest', cmap=cmap)\n",
    "    plt.title(title)\n",
    "    plt.colorbar()\n",
    "    tick_marks = np.arange(len(encoder.classes_))\n",
    "    plt.xticks(tick_marks, encoder.classes_, rotation=45)\n",
    "    plt.yticks(tick_marks, encoder.classes_)\n",
    "    \n",
    "    thresh = cm.max() / 2.\n",
    "    for i, j in itertools.product(range(cm.shape[0]), range(cm.shape[1])):\n",
    "        plt.text(j, i, format(cm[i, j], '.1f'),\n",
    "                 horizontalalignment=\"center\",\n",
    "                 color=\"white\" if cm[i, j] > thresh else \"black\")\n",
    "    \n",
    "    plt.tight_layout()\n",
    "    plt.ylabel('True label')\n",
    "    plt.xlabel('Predicted label')"
   ]
  },
  {
   "cell_type": "code",
   "execution_count": null,
   "metadata": {},
   "outputs": [],
   "source": [
    "def print_statistic(data, model_file, model_name, linear=False, gyroscope=False, features_approach=False):\n",
    "    \n",
    "    # Load model\n",
    "    with open(os.path.join(\"models\", f\"{model_file}.pcl\"), \"rb\") as file:\n",
    "        model = pickle.load(file)\n",
    "    \n",
    "    print(f\"Model: {model_name}\")\n",
    "    \n",
    "    # Transform target values\n",
    "    data['event_label'] = data.apply(change_label, axis=1)\n",
    "    \n",
    "    y_true = data['event_label']\n",
    "    data = data.drop([\"event_label\", \"event\"], axis=1)\n",
    "    \n",
    "    if features_approach:\n",
    "        print(\"ARTICLE APPROACH\")\n",
    "        columns_to_predict = data.columns\n",
    "    else:\n",
    "        print(\"SIMPLE APPROACH\")\n",
    "        # Add acceleration feature\n",
    "        data['acceleration'] = np.sqrt(data['x_accelerometer'] ** 2 + data['y_accelerometer'] ** 2 + data['z_accelerometer'] ** 2)\n",
    "        if linear:\n",
    "            # Scale accelerometer x, y, z, values and acceleration feature\n",
    "            data['x_accelerometer'] = x_scaler.transform(data['x_accelerometer'].values.reshape(-1, 1))\n",
    "            data['y_accelerometer'] = y_scaler.transform(data['y_accelerometer'].values.reshape(-1, 1))\n",
    "            data['z_accelerometer'] = z_scaler.transform(data['z_accelerometer'].values.reshape(-1, 1))\n",
    "            data['acceleration'] = np.sqrt(\n",
    "                data['x_accelerometer'] ** 2 + data['y_accelerometer'] ** 2 + data[\n",
    "                    'z_accelerometer'] ** 2)\n",
    "        # Create list with columns which will be used for predicting\n",
    "        columns_to_predict = [\"x_accelerometer\", \"y_accelerometer\", \"z_accelerometer\", \"acceleration\"]\n",
    "        if gyroscope:\n",
    "            columns_to_predict += [\"x_gyroscope\", \"y_gyroscope\", \"z_gyroscope\"]\n",
    "    # Predict\n",
    "    y_pred = encoder.inverse_transform(model.predict(data[columns_to_predict]))\n",
    "    \n",
    "    # Calculate confusion matrix\n",
    "    cm = confusion_matrix(y_true, y_pred)\n",
    "    cm = cm.astype('float') / cm.sum(axis=1)[:, np.newaxis]\n",
    "    \n",
    "    # Calculate precision by each class\n",
    "    precision_scores = precision_score(encoder.transform(y_true), encoder.transform(y_pred), average=None)\n",
    "    for i, clasS in enumerate(encoder.classes_):\n",
    "        print(f\"Precision score for class {clasS} is {precision_scores[i]}\")\n",
    "    \n",
    "    print()\n",
    "    \n",
    "    # Calculate recall by each class\n",
    "    recall_scores = recall_score(encoder.transform(y_true), encoder.transform(y_pred), average=None)\n",
    "    for i, clasS in enumerate(encoder.classes_):\n",
    "        print(f\"Recall score for class {clasS} is {recall_scores[i]}\")\n",
    "    \n",
    "    # Plot confusion matrix\n",
    "    plt.figure(figsize=(7, 7))\n",
    "    plot_confusion_matrix(cm)"
   ]
  },
  {
   "cell_type": "code",
   "execution_count": null,
   "metadata": {},
   "outputs": [],
   "source": [
    "val = pd.read_csv('data/val_filtered_accelerometer.csv')\n",
    "print_statistic(val, \"linear-accelerometer\", \"SUPPORT VECTOR MACHINE\", linear=True)"
   ]
  },
  {
   "cell_type": "code",
   "execution_count": null,
   "metadata": {},
   "outputs": [],
   "source": [
    "val = pd.read_csv('data/val_filtered_accelerometer.csv')\n",
    "print_statistic(val, \"non-linear-accelerometer\", \"LIGHTGBM\")"
   ]
  },
  {
   "cell_type": "code",
   "execution_count": null,
   "metadata": {},
   "outputs": [],
   "source": [
    "val_acc = pd.read_csv('data/val_filtered_accelerometer.csv')\n",
    "val_gyr = pd.read_csv('data/val_filtered_gyroscope.csv')\n",
    "val = pd.concat([val_acc, val_gyr.drop([\"event\"], axis=1)], axis=1)\n",
    "print_statistic(val, \"linear-accelerometer-gyroscope\", \"SUPPORT VECTOR MACHINE\", linear=True, gyroscope=True)"
   ]
  },
  {
   "cell_type": "code",
   "execution_count": null,
   "metadata": {},
   "outputs": [],
   "source": [
    "val_acc = pd.read_csv('data/val_filtered_accelerometer.csv')\n",
    "val_gyr = pd.read_csv('data/val_filtered_gyroscope.csv')\n",
    "val = pd.concat([val_acc, val_gyr.drop([\"event\"], axis=1)], axis=1)\n",
    "print_statistic(val, \"non-linear-accelerometer-gyroscope\", \"LIGHTGBM\", gyroscope=True)"
   ]
  },
  {
   "cell_type": "code",
   "execution_count": null,
   "metadata": {},
   "outputs": [],
   "source": [
    "val = pd.read_csv('data/val_accelerometer_features.csv')\n",
    "print_statistic(val, \"linear-accelerometer-features\", \"MLP\", features_approach=True)"
   ]
  },
  {
   "cell_type": "code",
   "execution_count": null,
   "metadata": {},
   "outputs": [],
   "source": [
    "val = pd.read_csv('data/val_accelerometer_features.csv')\n",
    "print_statistic(val, \"non-linear-accelerometer-features\", \"RANDOM FOREST\", features_approach=True)"
   ]
  },
  {
   "cell_type": "code",
   "execution_count": null,
   "metadata": {},
   "outputs": [],
   "source": [
    "val_acc = pd.read_csv('data/val_accelerometer_features.csv')\n",
    "val_gyr = pd.read_csv('data/val_gyroscope_features.csv')\n",
    "val = pd.concat([val_acc, val_gyr.drop([\"event\"], axis=1)], axis=1)\n",
    "print_statistic(val, \"linear-accelerometer-gyroscope-features\", \"MLP\", features_approach=True)"
   ]
  },
  {
   "cell_type": "code",
   "execution_count": null,
   "metadata": {},
   "outputs": [],
   "source": [
    "val_acc = pd.read_csv('data/val_accelerometer_features.csv')\n",
    "val_gyr = pd.read_csv('data/val_gyroscope_features.csv')\n",
    "val = pd.concat([val_acc, val_gyr.drop([\"event\"], axis=1)], axis=1)\n",
    "print_statistic(val, \"non-linear-accelerometer-gyroscope-features\", \"RANDOM FOREST\", features_approach=True)"
   ]
  },
  {
   "cell_type": "code",
   "execution_count": null,
   "metadata": {},
   "outputs": [],
   "source": []
  },
  {
   "cell_type": "code",
   "execution_count": null,
   "metadata": {},
   "outputs": [],
   "source": []
  }
 ],
 "metadata": {
  "kernelspec": {
   "display_name": "Python 3",
   "language": "python",
   "name": "python3"
  },
  "language_info": {
   "codemirror_mode": {
    "name": "ipython",
    "version": 3
   },
   "file_extension": ".py",
   "mimetype": "text/x-python",
   "name": "python",
   "nbconvert_exporter": "python",
   "pygments_lexer": "ipython3",
   "version": "3.7.3"
  }
 },
 "nbformat": 4,
 "nbformat_minor": 4
}
