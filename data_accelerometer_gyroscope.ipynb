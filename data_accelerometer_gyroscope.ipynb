{
 "cells": [
  {
   "cell_type": "markdown",
   "metadata": {
    "pycharm": {
     "name": "#%% md\n"
    }
   },
   "source": [
    "<font size=\"+0.5\">Notebook for transform data format to train the model<font>"
   ]
  },
  {
   "cell_type": "code",
   "execution_count": null,
   "metadata": {
    "pycharm": {
     "is_executing": false
    }
   },
   "outputs": [],
   "source": [
    "import numpy as np\n",
    "import pandas as pd\n",
    "import os\n",
    "\n",
    "from datetime import datetime"
   ]
  },
  {
   "cell_type": "code",
   "execution_count": null,
   "metadata": {
    "pycharm": {
     "is_executing": false
    }
   },
   "outputs": [],
   "source": [
    "# Timestamp form in init data have this format\n",
    "form = \"%d/%m/%Y %H:%M:%S\""
   ]
  },
  {
   "cell_type": "code",
   "execution_count": null,
   "metadata": {
    "pycharm": {
     "is_executing": false
    }
   },
   "outputs": [],
   "source": [
    "# Dictionary to replace events\n",
    "replacement = {\"curva_direita_agressiva\": \"Aggressive right turn\",\n",
    "               \"curva_esquerda_agressiva\": \"Aggressive left turn\",\n",
    "               \"evento_nao_agressivo\": \"Non-aggressive event\",\n",
    "               \"troca_faixa_direita_agressiva\": \"Aggressive right lane change\",\n",
    "               \"aceleracao_agressiva\": \"Aggressive acceleration\",\n",
    "               \"freada_agressiva\": \"Aggressive breaking\",\n",
    "               \"troca_faixa_esquerda_agressiva\": \"Aggressive left lane change\",\n",
    "               \"No label\": \"No label\"}"
   ]
  },
  {
   "cell_type": "code",
   "execution_count": null,
   "metadata": {
    "pycharm": {
     "is_executing": false
    }
   },
   "outputs": [],
   "source": [
    "# Function to replace events\n",
    "def replace_event(row):\n",
    "    return replacement[row['event']]"
   ]
  },
  {
   "cell_type": "code",
   "execution_count": null,
   "metadata": {
    "pycharm": {
     "is_executing": false
    }
   },
   "outputs": [],
   "source": [
    "# Load and concatenate accelerometer data with its events\n",
    "def make_labeled_data(folder_num):\n",
    "    # Load events and its time\n",
    "    data_label = pd.read_csv(os.path.join('data', 'data_init', str(folder_num), 'groundTruth.csv'))\n",
    "    # Load accelerometer and gyroscope data\n",
    "    data_acc = pd.read_csv(os.path.join('data', 'data_init', str(folder_num), 'aceleracaoLinear_terra.csv'))\n",
    "    data_gyro = pd.read_csv(os.path.join('data', 'data_init', str(folder_num), 'giroscopio_terra.csv'))\n",
    "    \n",
    "    data = data_acc.copy()\n",
    "    data = data.rename(columns={\"x\": \"x_accelerometer\", \"y\": \"y_accelerometer\", \"z\": \"z_accelerometer\"})\n",
    "    data['x_gyroscope'] = data_gyro[\"x\"]\n",
    "    data['y_gyroscope'] = data_gyro[\"y\"]\n",
    "    data['z_gyroscope'] = data_gyro[\"z\"]\n",
    "    \n",
    "    # Take first time as start of the trip\n",
    "    init = datetime.strptime(data.loc[0]['timestamp'], form)\n",
    "    \n",
    "    # Function for changing time on its duration of the time by this trip to this record\n",
    "    def change_timestamp(row):\n",
    "        return (datetime.strptime(row['timestamp'], form) - init).seconds\n",
    "    \n",
    "    \n",
    "    \n",
    "    data['time_duration'] = data.apply(change_timestamp, axis=1)\n",
    "    \n",
    "    for index, row in data_label.iterrows():\n",
    "        start = row[' inicio']\n",
    "        finish = row[' fim']\n",
    "        data.loc[((data['time_duration'] >= start) & (data['time_duration'] < finish)), 'event'] = row['evento']\n",
    "    \n",
    "    data['event'] = data['event'].fillna(\"No label\")\n",
    "    data['event'] = data.apply(replace_event, axis=1)\n",
    "    \n",
    "    return data"
   ]
  },
  {
   "cell_type": "code",
   "execution_count": null,
   "metadata": {},
   "outputs": [],
   "source": [
    "# Function for creating sequence of events in one dataframe\n",
    "# Each event has its own number if it is on different time interval\n",
    "def create_events_sequence(data):\n",
    "    event_num = 1\n",
    "    event = data.iloc[0][\"event\"]\n",
    "    sequence = []\n",
    "    \n",
    "    for index, row in data.iterrows():\n",
    "        if row[\"event\"] != event:\n",
    "            event_num += 1\n",
    "            event = data.loc[index, \"event\"]\n",
    "        sequence.append(event_num)\n",
    "    return sequence"
   ]
  },
  {
   "cell_type": "code",
   "execution_count": null,
   "metadata": {},
   "outputs": [],
   "source": [
    "# Function for adding new events to the dictionary of events\n",
    "def add_events_to_dict(data, dictionary):\n",
    "    # Create events sequence in this dataframe\n",
    "    data[\"event_number\"] = create_events_sequence(data)\n",
    "    # Select only labeled data\n",
    "    data = data[data[\"event\"] != \"No label\"]\n",
    "    # Group data by unique number of event\n",
    "    data_groupbed = data.groupby(\"event_number\")\n",
    "    \n",
    "    # For each unique event number\n",
    "    for group in np.unique(data[\"event_number\"].values):\n",
    "        current_group = data_groupbed.get_group(group)\n",
    "        event_name = current_group[\"event\"].values[0]\n",
    "        # If dictionary has this event name add dataframe to the list\n",
    "        # Otherwise create list with this dataframe\n",
    "        if dictionary.get(event_name):\n",
    "            dictionary[event_name].append(current_group)\n",
    "        else:\n",
    "            dictionary[event_name] = [current_group]\n",
    "    # Return updated dictionary\n",
    "    return dictionary"
   ]
  },
  {
   "cell_type": "code",
   "execution_count": null,
   "metadata": {},
   "outputs": [],
   "source": [
    "data1 = make_labeled_data(16)\n",
    "data2 = make_labeled_data(17)\n",
    "data3 = make_labeled_data(20)\n",
    "data4 = make_labeled_data(21)"
   ]
  },
  {
   "cell_type": "code",
   "execution_count": null,
   "metadata": {},
   "outputs": [],
   "source": [
    "# Dictionary for storing parts of dataframe by its event\n",
    "event_dict = {}"
   ]
  },
  {
   "cell_type": "code",
   "execution_count": null,
   "metadata": {},
   "outputs": [],
   "source": [
    "event_dict = add_events_to_dict(data1, event_dict)\n",
    "event_dict = add_events_to_dict(data2, event_dict)\n",
    "event_dict = add_events_to_dict(data3, event_dict)\n",
    "event_dict = add_events_to_dict(data4, event_dict)"
   ]
  },
  {
   "cell_type": "code",
   "execution_count": null,
   "metadata": {},
   "outputs": [],
   "source": [
    "train_agg_br = pd.concat([event_dict[\"Aggressive breaking\"][i] for i in [0, 2, 3, 4, 5, 6, 8, 9, 11, 7]])\n",
    "val_agg_br = pd.concat([event_dict[\"Aggressive breaking\"][i] for i in [1, 10]])\n",
    "\n",
    "train_agg_ac = pd.concat([event_dict[\"Aggressive acceleration\"][i] for i in [0, 2, 3, 4, 5, 6, 8, 9, 11, 7]])\n",
    "val_agg_ac = pd.concat([event_dict[\"Aggressive acceleration\"][i] for i in [1, 10]])\n",
    "\n",
    "train_agg_lt = pd.concat([event_dict[\"Aggressive left turn\"][i] for i in [0, 2, 3, 4, 5, 6, 8, 9, 7]])\n",
    "val_agg_lt = pd.concat([event_dict[\"Aggressive left turn\"][i] for i in [1, 10]])\n",
    "\n",
    "train_agg_rt = pd.concat([event_dict[\"Aggressive right turn\"][i] for i in [0, 2, 3, 4, 5, 6, 8, 9, 7]])\n",
    "val_agg_rt = pd.concat([event_dict[\"Aggressive right turn\"][i] for i in [1, 10]])\n",
    "\n",
    "train_agg_lc = pd.concat([event_dict[\"Aggressive left lane change\"][i] for i in [0, 2, 3]])\n",
    "val_agg_lc = pd.concat([event_dict[\"Aggressive left lane change\"][i] for i in [1]])\n",
    "\n",
    "train_agg_rc = pd.concat([event_dict[\"Aggressive right lane change\"][i] for i in [0, 2, 4, 3]])\n",
    "val_agg_rc = pd.concat([event_dict[\"Aggressive right lane change\"][i] for i in [1]])\n",
    "\n",
    "train_agg_na = pd.concat([event_dict[\"Non-aggressive event\"][i] for i in [0, 2, 3, 4, 5, 6, 8, 9, 11, 13, 10]])\n",
    "val_agg_na = pd.concat([event_dict[\"Non-aggressive event\"][i] for i in [1, 7, 12]])"
   ]
  },
  {
   "cell_type": "code",
   "execution_count": null,
   "metadata": {},
   "outputs": [],
   "source": [
    "train = pd.concat([train_agg_br, train_agg_ac, train_agg_lt, train_agg_rt, train_agg_lc, train_agg_rc, train_agg_na])\n",
    "val = pd.concat([val_agg_br, val_agg_ac, val_agg_lt, val_agg_rt, val_agg_lc, val_agg_rc, val_agg_na])"
   ]
  },
  {
   "cell_type": "code",
   "execution_count": null,
   "metadata": {},
   "outputs": [],
   "source": [
    "columns_to_save = ['x_accelerometer', 'y_accelerometer', 'z_accelerometer', 'x_gyroscope', \"y_gyroscope\", 'z_gyroscope', 'event']"
   ]
  },
  {
   "cell_type": "code",
   "execution_count": null,
   "metadata": {},
   "outputs": [],
   "source": [
    "train[columns_to_save].to_csv('data/train_accelerometer_gyroscope.csv', index=False)"
   ]
  },
  {
   "cell_type": "code",
   "execution_count": null,
   "metadata": {},
   "outputs": [],
   "source": [
    "val[columns_to_save].to_csv('data/val_accelerometer_gyroscope.csv', index=False)"
   ]
  },
  {
   "cell_type": "code",
   "execution_count": null,
   "metadata": {},
   "outputs": [],
   "source": []
  },
  {
   "cell_type": "code",
   "execution_count": null,
   "metadata": {},
   "outputs": [],
   "source": []
  }
 ],
 "metadata": {
  "kernelspec": {
   "display_name": "Python 3",
   "language": "python",
   "name": "python3"
  },
  "language_info": {
   "codemirror_mode": {
    "name": "ipython",
    "version": 3
   },
   "file_extension": ".py",
   "mimetype": "text/x-python",
   "name": "python",
   "nbconvert_exporter": "python",
   "pygments_lexer": "ipython3",
   "version": "3.7.3"
  },
  "pycharm": {
   "stem_cell": {
    "cell_type": "raw",
    "metadata": {
     "collapsed": false
    },
    "source": []
   }
  }
 },
 "nbformat": 4,
 "nbformat_minor": 4
}
