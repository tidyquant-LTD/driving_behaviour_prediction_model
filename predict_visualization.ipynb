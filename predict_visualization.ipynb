{
 "cells": [
  {
   "cell_type": "code",
   "execution_count": null,
   "metadata": {},
   "outputs": [],
   "source": [
    "import sys\n",
    "if not sys.warnoptions:\n",
    "    import warnings\n",
    "    warnings.simplefilter(\"ignore\")"
   ]
  },
  {
   "cell_type": "code",
   "execution_count": null,
   "metadata": {},
   "outputs": [],
   "source": [
    "import folium\n",
    "import numpy as np\n",
    "import os\n",
    "import pandas as pd\n",
    "import pickle"
   ]
  },
  {
   "cell_type": "code",
   "execution_count": null,
   "metadata": {},
   "outputs": [],
   "source": [
    "def visualize(filename, path_to_the_file_with_time, data_gps):\n",
    "    \n",
    "    with open(os.path.join(\"models\", \"encoder.pcl\"), \"rb\") as file:\n",
    "        encoder = pickle.load(file)\n",
    "    \n",
    "    data_time = pd.read_csv(path_to_the_file_with_time)\n",
    "    \n",
    "    data_pred = pd.read_csv(filename)\n",
    "    data_pred[\"time\"] = data_time['time']\n",
    "    \n",
    "    unique, counts = np.unique(data_pred['anomalies_category'].values, return_counts=True)\n",
    "    \n",
    "    print(encoder.inverse_transform(unique), counts)\n",
    "    data_pred['anomalies_category'] = encoder.inverse_transform(data_pred['anomalies_category'])\n",
    "    def concat_with_event(row):\n",
    "        data = data_pred[((data_pred[\"time\"] >= row['time'] - 10) & (data_pred[\"time\"] <= row['time'] + 10))].reset_index()\n",
    "        try:\n",
    "            return data['anomalies_category'].values[0]\n",
    "        except:\n",
    "            return np.nan\n",
    "    \n",
    "    data_gps['anomalies_category'] = data_gps.apply(concat_with_event, axis=1)\n",
    "    data_gps = data_gps.dropna()\n",
    "    data_gps['speed'] = data_gps['speed'] * 3.6\n",
    "    data_gps['speed'] = data_gps['speed'].apply(round)\n",
    "    coords_critical = data_gps[['lat', 'lng', \"speed\"]][data_gps['anomalies_category']=='critical'].values.tolist()\n",
    "    coords_negligible = data_gps[['lat', 'lng', \"speed\"]][data_gps['anomalies_category']=='negligible'].values.tolist()\n",
    "    coords_significant = data_gps[['lat', 'lng', \"speed\"]][data_gps['anomalies_category']=='significant'].values.tolist()\n",
    "    mapit = folium.Map(location=[data_gps['lat'].min(), data_gps['lng'].min()], zoom_start=15)\n",
    "\n",
    "    for coord in coords_negligible:\n",
    "        folium.Marker(location=[coord[0], coord[1]], icon = folium.DivIcon(html=f\"\"\"<div style=\"color: green;\">{coord[2]}</div>\"\"\")).add_to(mapit)\n",
    "\n",
    "    for coord in coords_significant:\n",
    "        folium.Marker(location=[coord[0], coord[1]], icon = folium.DivIcon(html=f\"\"\"<div style=\"color: black;\">{coord[2]}</div>\"\"\")).add_to(mapit)\n",
    "\n",
    "    for coord in coords_critical:\n",
    "        folium.Marker(location=[coord[0], coord[1]], icon = folium.DivIcon(html=f\"\"\"<div style=\"color: red;\">{coord[2]}</div>\"\"\")).add_to(mapit)\n",
    "    \n",
    "    return mapit"
   ]
  },
  {
   "cell_type": "code",
   "execution_count": null,
   "metadata": {},
   "outputs": [],
   "source": [
    "data_gps = pd.read_csv(os.path.join('data', 'test', 'sensorlab_2020-02-15-06.52.25', 'gps.csv'))\n",
    "filename = 'sensorlab_2020-02-15-06.52.25_accelerometer.csv'\n",
    "path_to_the_file_with_time = os.path.join('data', 'test', 'sensorlab_2020-02-15-06.52.25', \"accelerometer.csv\")\n",
    "visualize(os.path.join('data', 'test', 'predict', 'linear', filename), path_to_the_file_with_time, data_gps)"
   ]
  },
  {
   "cell_type": "code",
   "execution_count": null,
   "metadata": {},
   "outputs": [],
   "source": [
    "filename = 'sensorlab_2020-02-15-06.52.25_accelerometer_gyroscope.csv'\n",
    "path_to_the_file_with_time = os.path.join('data', 'test', 'sensorlab_2020-02-15-06.52.25', \"accelerometer.csv\")\n",
    "visualize(os.path.join('data', 'test', 'predict', 'linear', filename), path_to_the_file_with_time, data_gps)"
   ]
  },
  {
   "cell_type": "code",
   "execution_count": null,
   "metadata": {},
   "outputs": [],
   "source": [
    "filename = 'sensorlab_2020-02-15-06.52.25_accelerometer.csv'\n",
    "path_to_the_file_with_time = os.path.join('data', 'test', 'sensorlab_2020-02-15-06.52.25', \"accelerometer.csv\")\n",
    "visualize(os.path.join('data', 'test', 'predict', 'non-linear', filename), path_to_the_file_with_time, data_gps)"
   ]
  },
  {
   "cell_type": "code",
   "execution_count": null,
   "metadata": {},
   "outputs": [],
   "source": [
    "filename = 'sensorlab_2020-02-15-06.52.25_accelerometer_gyroscope.csv'\n",
    "path_to_the_file_with_time = os.path.join('data', 'test', 'sensorlab_2020-02-15-06.52.25', \"accelerometer.csv\")\n",
    "visualize(os.path.join('data', 'test', 'predict', 'non-linear', filename), path_to_the_file_with_time, data_gps)"
   ]
  },
  {
   "cell_type": "code",
   "execution_count": null,
   "metadata": {},
   "outputs": [],
   "source": [
    "filename = 'sensorlab_2020-02-15-06.52.25_accelerometer_features.csv'\n",
    "path_to_the_file_with_time = os.path.join('data', 'test', 'sensorlab_2020-02-15-06.52.25', \"accelerometer.csv\")\n",
    "visualize(os.path.join('data', 'test', 'predict', 'linear-features', filename), path_to_the_file_with_time, data_gps)"
   ]
  },
  {
   "cell_type": "code",
   "execution_count": null,
   "metadata": {},
   "outputs": [],
   "source": [
    "filename = 'sensorlab_2020-02-15-06.52.25_accelerometer_gyroscope_features.csv'\n",
    "path_to_the_file_with_time = os.path.join('data', 'test', 'sensorlab_2020-02-15-06.52.25', \"accelerometer.csv\")\n",
    "visualize(os.path.join('data', 'test', 'predict', 'linear-features', filename), path_to_the_file_with_time, data_gps)"
   ]
  },
  {
   "cell_type": "code",
   "execution_count": null,
   "metadata": {},
   "outputs": [],
   "source": [
    "filename = 'sensorlab_2020-02-15-06.52.25_accelerometer_features.csv'\n",
    "path_to_the_file_with_time = os.path.join('data', 'test', 'sensorlab_2020-02-15-06.52.25', \"accelerometer.csv\")\n",
    "visualize(os.path.join('data', 'test', 'predict', 'non-linear-features', filename), path_to_the_file_with_time, data_gps)"
   ]
  },
  {
   "cell_type": "code",
   "execution_count": null,
   "metadata": {},
   "outputs": [],
   "source": [
    "filename = 'sensorlab_2020-02-15-06.52.25_accelerometer_gyroscope_features.csv'\n",
    "path_to_the_file_with_time = os.path.join('data', 'test', 'sensorlab_2020-02-15-06.52.25', \"accelerometer.csv\")\n",
    "visualize(os.path.join('data', 'test', 'predict', 'non-linear-features', filename), path_to_the_file_with_time, data_gps)"
   ]
  },
  {
   "cell_type": "code",
   "execution_count": null,
   "metadata": {},
   "outputs": [],
   "source": []
  },
  {
   "cell_type": "code",
   "execution_count": null,
   "metadata": {},
   "outputs": [],
   "source": []
  },
  {
   "cell_type": "code",
   "execution_count": null,
   "metadata": {},
   "outputs": [],
   "source": []
  }
 ],
 "metadata": {
  "kernelspec": {
   "display_name": "Python 3",
   "language": "python",
   "name": "python3"
  },
  "language_info": {
   "codemirror_mode": {
    "name": "ipython",
    "version": 3
   },
   "file_extension": ".py",
   "mimetype": "text/x-python",
   "name": "python",
   "nbconvert_exporter": "python",
   "pygments_lexer": "ipython3",
   "version": "3.7.3"
  }
 },
 "nbformat": 4,
 "nbformat_minor": 4
}
