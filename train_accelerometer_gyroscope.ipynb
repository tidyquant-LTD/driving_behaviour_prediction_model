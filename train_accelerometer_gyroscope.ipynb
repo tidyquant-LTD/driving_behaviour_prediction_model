{
 "cells": [
  {
   "cell_type": "markdown",
   "metadata": {},
   "source": [
    "<font size=\"+0.5\">Load libraries and data.</font>"
   ]
  },
  {
   "cell_type": "code",
   "execution_count": null,
   "metadata": {},
   "outputs": [],
   "source": [
    "# Ignore warnings \n",
    "import warnings\n",
    "from sklearn.exceptions import ConvergenceWarning\n",
    "warnings.filterwarnings(action='ignore', category=ConvergenceWarning)"
   ]
  },
  {
   "cell_type": "code",
   "execution_count": null,
   "metadata": {},
   "outputs": [],
   "source": [
    "import lightgbm as lgb\n",
    "import matplotlib.pyplot as plt\n",
    "import numpy as np\n",
    "import pandas as pd\n",
    "import pickle\n",
    "\n",
    "from sklearn.ensemble import RandomForestClassifier, GradientBoostingClassifier\n",
    "from sklearn.linear_model import LogisticRegression, PassiveAggressiveClassifier\n",
    "from sklearn.metrics import accuracy_score, make_scorer\n",
    "from sklearn.model_selection import train_test_split, GridSearchCV\n",
    "from sklearn.neural_network import MLPClassifier\n",
    "from sklearn.preprocessing import LabelEncoder, StandardScaler, Normalizer, MinMaxScaler\n",
    "from sklearn.svm import SVC\n",
    "from sklearn.tree import DecisionTreeClassifier\n",
    "from sklearn.utils.class_weight import compute_class_weight"
   ]
  },
  {
   "cell_type": "code",
   "execution_count": null,
   "metadata": {},
   "outputs": [],
   "source": [
    "train_acc = pd.read_csv('data/train_filtered_accelerometer.csv')\n",
    "train_gyr = pd.read_csv('data/train_filtered_gyroscope.csv')\n",
    "\n",
    "val_acc = pd.read_csv('data/val_filtered_accelerometer.csv')\n",
    "val_gyr = pd.read_csv('data/val_filtered_gyroscope.csv')\n",
    "\n",
    "train = pd.concat([train_acc, train_gyr.drop([\"event\"], axis=1)], axis=1)\n",
    "val = pd.concat([val_acc, val_gyr.drop([\"event\"], axis=1)], axis=1)"
   ]
  },
  {
   "cell_type": "markdown",
   "metadata": {},
   "source": [
    "# <center> Data preprocessing"
   ]
  },
  {
   "cell_type": "markdown",
   "metadata": {},
   "source": [
    "<font size=\"+0.5\">Label encoding.</font>"
   ]
  },
  {
   "cell_type": "markdown",
   "metadata": {},
   "source": [
    "<font size=\"+0.5\">Divide data into 3 categories then encode them.</font>"
   ]
  },
  {
   "cell_type": "code",
   "execution_count": null,
   "metadata": {},
   "outputs": [],
   "source": [
    "label_dict = {\"Aggressive acceleration\": \"critical\",\n",
    "         \"Aggressive breaking\": \"critical\", \n",
    "         \"Aggressive left lane change\": \"significant\",\n",
    "         \"Aggressive left turn\": \"significant\",\n",
    "         \"Aggressive right lane change\": \"significant\",\n",
    "         \"Aggressive right turn\": \"significant\",\n",
    "         \"Non-aggressive event\": \"negligible\"}"
   ]
  },
  {
   "cell_type": "code",
   "execution_count": null,
   "metadata": {},
   "outputs": [],
   "source": [
    "def change_label(row):\n",
    "    return label_dict[row['event']]"
   ]
  },
  {
   "cell_type": "code",
   "execution_count": null,
   "metadata": {},
   "outputs": [],
   "source": [
    "train['event_label'] = train.apply(change_label, axis=1)\n",
    "val['event_label'] = val.apply(change_label, axis=1)"
   ]
  },
  {
   "cell_type": "code",
   "execution_count": null,
   "metadata": {},
   "outputs": [],
   "source": [
    "encoder = LabelEncoder()\n",
    "train['event_label_num'] = encoder.fit_transform(train['event_label'])\n",
    "val['event_label_num'] = encoder.transform(val['event_label'])"
   ]
  },
  {
   "cell_type": "code",
   "execution_count": null,
   "metadata": {},
   "outputs": [],
   "source": [
    "with open(\"models/encoder.pcl\", \"wb\") as file:\n",
    "    pickle.dump(encoder, file)"
   ]
  },
  {
   "cell_type": "markdown",
   "metadata": {},
   "source": [
    "<font size=\"+0.5\">Look at histogramm of the target class.</font>"
   ]
  },
  {
   "cell_type": "code",
   "execution_count": null,
   "metadata": {},
   "outputs": [],
   "source": [
    "train['event_label'].hist();"
   ]
  },
  {
   "cell_type": "code",
   "execution_count": null,
   "metadata": {},
   "outputs": [],
   "source": [
    "val['event_label'].hist();"
   ]
  },
  {
   "cell_type": "markdown",
   "metadata": {},
   "source": [
    "<font size=\"+0.5\">Data normalisation.</font>"
   ]
  },
  {
   "cell_type": "markdown",
   "metadata": {},
   "source": [
    "<font size=\"+0.5\">Linear models have to work with normilized data.</font>"
   ]
  },
  {
   "cell_type": "code",
   "execution_count": null,
   "metadata": {},
   "outputs": [],
   "source": [
    "normalizer = StandardScaler()\n",
    "\n",
    "train['x_accelerometer_scaled'] = normalizer.fit_transform(train['x_accelerometer'].values.reshape(-1, 1))\n",
    "val['x_accelerometer_scaled'] = normalizer.transform(val['x_accelerometer'].values.reshape(-1, 1))\n",
    "with open(\"models/x_accelerometer.pcl\", \"wb\") as file:\n",
    "    pickle.dump(normalizer, file)\n",
    "\n",
    "train['y_accelerometer_scaled'] = normalizer.fit_transform(train['y_accelerometer'].values.reshape(-1, 1))\n",
    "val['y_accelerometer_scaled'] = normalizer.transform(val['y_accelerometer'].values.reshape(-1, 1))\n",
    "with open(\"models/y_accelerometer.pcl\", \"wb\") as file:\n",
    "    pickle.dump(normalizer, file)\n",
    "\n",
    "train['z_accelerometer_scaled'] = normalizer.fit_transform(train['z_accelerometer'].values.reshape(-1, 1))\n",
    "val['z_accelerometer_scaled'] = normalizer.transform(val['z_accelerometer'].values.reshape(-1, 1))\n",
    "with open(\"models/z_accelerometer.pcl\", \"wb\") as file:\n",
    "    pickle.dump(normalizer, file)"
   ]
  },
  {
   "cell_type": "markdown",
   "metadata": {},
   "source": [
    "<font size=\"+0.5\">Plots for showing difference in the filtered  and normilized values.</font>"
   ]
  },
  {
   "cell_type": "code",
   "execution_count": null,
   "metadata": {},
   "outputs": [],
   "source": [
    "fig, ax = plt.subplots(1, 3, figsize=(15, 5))\n",
    "    \n",
    "ax[0].plot(train[:100]['x_accelerometer'].values, label='x accelerometer')\n",
    "ax[0].plot(train[:100]['x_accelerometer_scaled'].values, label='accelerometer x normalizing')\n",
    "ax[0].legend();\n",
    "\n",
    "ax[1].plot(train[:100]['y_accelerometer'].values, label='y accelerometer')\n",
    "ax[1].plot(train[:100]['y_accelerometer_scaled'].values, label='accelerometer y normalizing')\n",
    "ax[1].legend();\n",
    "\n",
    "ax[2].plot(train[:100]['z_accelerometer'].values, label='z accelerometer')\n",
    "ax[2].plot(train[:100]['z_accelerometer_scaled'].values, label='accelerometer z normalizing')\n",
    "ax[2].legend();\n",
    "\n",
    "plt.title('Filtered accelerometer axis normalizing', fontsize=20)\n",
    "plt.show();"
   ]
  },
  {
   "cell_type": "markdown",
   "metadata": {},
   "source": [
    "# <center> Feature engineering"
   ]
  },
  {
   "cell_type": "markdown",
   "metadata": {},
   "source": [
    "<font size=\"+0.5\">Add acceleration feature</font>"
   ]
  },
  {
   "cell_type": "code",
   "execution_count": null,
   "metadata": {},
   "outputs": [],
   "source": [
    "train['acceleration'] = np.sqrt(train['x_accelerometer']**2 + train['y_accelerometer']**2 + train['z_accelerometer']**2)\n",
    "train['acceleration_scaled'] = np.sqrt(train['x_accelerometer_scaled']**2 + train['y_accelerometer_scaled']**2 + train['z_accelerometer_scaled']**2)\n",
    "\n",
    "val['acceleration'] = np.sqrt(val['x_accelerometer']**2 + val['y_accelerometer']**2 + val['z_accelerometer']**2)\n",
    "val['acceleration_scaled'] = np.sqrt(val['x_accelerometer_scaled']**2 + val['y_accelerometer_scaled']**2 + val['z_accelerometer_scaled']**2)"
   ]
  },
  {
   "cell_type": "markdown",
   "metadata": {},
   "source": [
    "# <center> Training and evaluating"
   ]
  },
  {
   "cell_type": "markdown",
   "metadata": {},
   "source": [
    "### <center> Linear models"
   ]
  },
  {
   "cell_type": "markdown",
   "metadata": {},
   "source": [
    "<font size=\"+0.5\">Split data into train and test</font>"
   ]
  },
  {
   "cell_type": "code",
   "execution_count": null,
   "metadata": {},
   "outputs": [],
   "source": [
    "x_train = train[['x_accelerometer_scaled', 'y_accelerometer_scaled', 'z_accelerometer_scaled', 'acceleration_scaled', 'x_gyroscope', 'y_gyroscope', 'z_gyroscope']]\n",
    "y_train = train['event_label_num'].values\n",
    "x_val = val[['x_accelerometer_scaled', 'y_accelerometer_scaled', 'z_accelerometer_scaled', 'acceleration_scaled', 'x_gyroscope', 'y_gyroscope', 'z_gyroscope']]\n",
    "y_val = val['event_label_num'].values"
   ]
  },
  {
   "cell_type": "markdown",
   "metadata": {},
   "source": [
    "<font size=\"+0.5\">On the histogramm of the target class we see that it isn't balanced. We can't use cutting or dublicating for balancing data, so we dicided to use class weight.</font>"
   ]
  },
  {
   "cell_type": "code",
   "execution_count": null,
   "metadata": {},
   "outputs": [],
   "source": [
    "y = np.append(y_train, y_val)"
   ]
  },
  {
   "cell_type": "code",
   "execution_count": null,
   "metadata": {},
   "outputs": [],
   "source": [
    "class_weight = dict(zip(np.unique(y), compute_class_weight('balanced', np.unique(y), y)))"
   ]
  },
  {
   "cell_type": "code",
   "execution_count": null,
   "metadata": {},
   "outputs": [],
   "source": [
    "clf_lr = LogisticRegression(class_weight=class_weight, random_state = 42)\n",
    "clf_lr.fit(x_train, y_train)\n",
    "lr_predict_val = clf_lr.predict(x_val)\n",
    "lr_predict_train = clf_lr.predict(x_train)\n",
    "print(f\"Train accuracy: {accuracy_score(lr_predict_train, y_train)}\")\n",
    "print(f\"Validation accuracy: {accuracy_score(lr_predict_val, y_val)}\")"
   ]
  },
  {
   "cell_type": "code",
   "execution_count": null,
   "metadata": {},
   "outputs": [],
   "source": [
    "clf_pac = PassiveAggressiveClassifier(class_weight=class_weight, random_state=42)\n",
    "clf_pac.fit(x_train, y_train)\n",
    "pac_predict_val = clf_pac.predict(x_val)\n",
    "pac_predict_train = clf_pac.predict(x_train)\n",
    "print(f\"Train accuracy: {accuracy_score(pac_predict_train, y_train)}\")\n",
    "print(f\"Validation accuracy: {accuracy_score(pac_predict_val, y_val)}\")"
   ]
  },
  {
   "cell_type": "code",
   "execution_count": null,
   "metadata": {},
   "outputs": [],
   "source": [
    "clf_svc = SVC(class_weight=class_weight, random_state=42)\n",
    "clf_svc.fit(x_train, y_train)\n",
    "svc_predict_val = clf_svc.predict(x_val)\n",
    "svc_predict_train = clf_svc.predict(x_train)\n",
    "print(f\"Train accuracy: {accuracy_score(svc_predict_train, y_train)}\")\n",
    "print(f\"Validation accuracy: {accuracy_score(svc_predict_val, y_val)}\")"
   ]
  },
  {
   "cell_type": "code",
   "execution_count": null,
   "metadata": {},
   "outputs": [],
   "source": [
    "clf_pcp = MLPClassifier(random_state=42, solver='lbfgs', max_iter=1000, hidden_layer_sizes=50)\n",
    "clf_pcp.fit(x_train, y_train)\n",
    "pcp_predict_val = clf_pcp.predict(x_val)\n",
    "pcp_predict_train = clf_pcp.predict(x_train)\n",
    "print(f\"Train accuracy: {accuracy_score(pcp_predict_train, y_train)}\")\n",
    "print(f\"Validation accuracy: {accuracy_score(pcp_predict_val, y_val)}\")"
   ]
  },
  {
   "cell_type": "markdown",
   "metadata": {},
   "source": [
    "<font size=\"+0.5\">Use GridSearch for find better parameters for best linear models.</font>"
   ]
  },
  {
   "cell_type": "code",
   "execution_count": null,
   "metadata": {},
   "outputs": [],
   "source": [
    "def get_cv(train, test, n_folds=5):\n",
    "    \n",
    "    cv = []\n",
    "    for i in range(n_folds):\n",
    "        cv.append((train.sample(frac = 0.8).index.tolist(), test.sample(frac = 0.8).index.tolist()))\n",
    "    \n",
    "    return cv"
   ]
  },
  {
   "cell_type": "code",
   "execution_count": null,
   "metadata": {},
   "outputs": [],
   "source": [
    "param_svc = {\n",
    "    \"C\": np.arange(8, 12, 0.5),\n",
    "    'gamma':  np.arange(1.5, 3.1, 0.1)\n",
    "            }\n",
    "clf_grid = GridSearchCV(\n",
    "    SVC(class_weight=class_weight, random_state=42),\n",
    "    param_svc,\n",
    "    scoring=make_scorer(accuracy_score),\n",
    "    verbose=1,\n",
    "    n_jobs=-1,\n",
    "    cv=get_cv(x_train, x_val, n_folds=4) \n",
    ")\n",
    "clf_grid.fit(x_train, y_train);"
   ]
  },
  {
   "cell_type": "code",
   "execution_count": null,
   "metadata": {},
   "outputs": [],
   "source": [
    "best_svc_estimator = clf_grid.best_estimator_\n",
    "grid_predict_val = best_svc_estimator.predict(x_val)\n",
    "grid_predict_train = best_svc_estimator.predict(x_train)\n",
    "print(f\"Train accuracy: {accuracy_score(grid_predict_train, y_train)}\")\n",
    "print(f\"Validation accuracy: {accuracy_score(grid_predict_val, y_val)}\")"
   ]
  },
  {
   "cell_type": "code",
   "execution_count": null,
   "metadata": {},
   "outputs": [],
   "source": [
    "best_svc_estimator.get_params"
   ]
  },
  {
   "cell_type": "markdown",
   "metadata": {},
   "source": [
    "### <center> Non-linear models"
   ]
  },
  {
   "cell_type": "markdown",
   "metadata": {},
   "source": [
    "<font size=\"+0.5\">Split data into train and test</font>"
   ]
  },
  {
   "cell_type": "code",
   "execution_count": null,
   "metadata": {},
   "outputs": [],
   "source": [
    "x_train = train[['x_accelerometer', 'y_accelerometer', 'z_accelerometer', 'acceleration', 'x_gyroscope', 'y_gyroscope', 'z_gyroscope']]\n",
    "y_train = train['event_label_num'].values\n",
    "x_val = val[['x_accelerometer', 'y_accelerometer', 'z_accelerometer', 'acceleration', 'x_gyroscope', 'y_gyroscope', 'z_gyroscope']]\n",
    "y_val = val['event_label_num'].values"
   ]
  },
  {
   "cell_type": "code",
   "execution_count": null,
   "metadata": {},
   "outputs": [],
   "source": [
    "clf_gbc = GradientBoostingClassifier()\n",
    "clf_gbc.fit(x_train, y_train)\n",
    "gbc_predict_val = clf_gbc.predict(x_val)\n",
    "gbc_predict_train = clf_gbc.predict(x_train)\n",
    "print(f\"Train accuracy: {accuracy_score(gbc_predict_train, y_train)}\")\n",
    "print(f\"Validation accuracy: {accuracy_score(gbc_predict_val, y_val)}\")"
   ]
  },
  {
   "cell_type": "code",
   "execution_count": null,
   "metadata": {},
   "outputs": [],
   "source": [
    "clf_rfc = RandomForestClassifier(n_estimators=100, class_weight=class_weight, random_state=42)\n",
    "clf_rfc.fit(x_train, y_train)\n",
    "rfc_predict_val = clf_rfc.predict(x_val)\n",
    "rfc_predict_train = clf_rfc.predict(x_train)\n",
    "print(f\"Train accuracy: {accuracy_score(rfc_predict_train, y_train)}\")\n",
    "print(f\"Validation accuracy: {accuracy_score(rfc_predict_val, y_val)}\")"
   ]
  },
  {
   "cell_type": "code",
   "execution_count": null,
   "metadata": {},
   "outputs": [],
   "source": [
    "clf_dtc = DecisionTreeClassifier(random_state=42, class_weight=class_weight)\n",
    "clf_dtc.fit(x_train, y_train)\n",
    "dtc_predict_val = clf_dtc.predict(x_val)\n",
    "dtc_predict_train = clf_dtc.predict(x_train)\n",
    "print(f\"Train accuracy: {accuracy_score(dtc_predict_train, y_train)}\")\n",
    "print(f\"Validation accuracy: {accuracy_score(dtc_predict_val, y_val)}\")"
   ]
  },
  {
   "cell_type": "markdown",
   "metadata": {},
   "source": [
    "<font size=\"+0.5\">Use GridSearch for find better parameters for best non-linear model.</font>"
   ]
  },
  {
   "cell_type": "code",
   "execution_count": null,
   "metadata": {},
   "outputs": [],
   "source": [
    "param_forest = {\"n_estimators\": np.arange(180, 220, 10),\n",
    "                \"max_depth\": np.arange(36, 46, 2)}\n",
    "\n",
    "clf_grid = GridSearchCV(RandomForestClassifier(n_jobs=-1, class_weight=class_weight, random_state=42),\n",
    "                        param_forest,\n",
    "                        scoring=make_scorer(accuracy_score),\n",
    "                        verbose=1,\n",
    "                        n_jobs=-1,\n",
    "                        cv=get_cv(x_train, x_val, n_folds=4)\n",
    "                       )\n",
    "clf_grid.fit(x_train, y_train);"
   ]
  },
  {
   "cell_type": "code",
   "execution_count": null,
   "metadata": {},
   "outputs": [],
   "source": [
    "best_forest_estimator = clf_grid.best_estimator_\n",
    "grid_predict_val = best_forest_estimator.predict(x_val)\n",
    "grid_predict_train = best_forest_estimator.predict(x_train)\n",
    "print(f\"Train accuracy: {accuracy_score(grid_predict_train, y_train)}\")\n",
    "print(f\"Validation accuracy: {accuracy_score(grid_predict_val, y_val)}\")"
   ]
  },
  {
   "cell_type": "markdown",
   "metadata": {},
   "source": [
    "<font size=\"+0.5\">In the end we dicided to check work of the boosting for this task.</font>"
   ]
  },
  {
   "cell_type": "code",
   "execution_count": null,
   "metadata": {},
   "outputs": [],
   "source": [
    "clf_lgb = lgb.LGBMClassifier(\n",
    "    n_estimators = 800,\n",
    "    seed = 42,\n",
    "    learning_rate = 0.015,\n",
    "    metric = 'multi_logloss',\n",
    "    objective = 'multiclass',\n",
    "    early_stopping = 20)"
   ]
  },
  {
   "cell_type": "code",
   "execution_count": null,
   "metadata": {},
   "outputs": [],
   "source": [
    "clf_lgb.fit(X=x_train, y=y_train, eval_set=(x_val, y_val), verbose=0)\n",
    "lgb_predict_val = clf_lgb.predict(x_val)\n",
    "lgb_predict_train = clf_lgb.predict(x_train)\n",
    "print(f\"Train accuracy: {accuracy_score(lgb_predict_train, y_train)}\")\n",
    "print(f\"Validation accuracy: {accuracy_score(lgb_predict_val, y_val)}\")"
   ]
  },
  {
   "cell_type": "markdown",
   "metadata": {},
   "source": [
    "<font size=\"+0.5\">Save best models.</font>"
   ]
  },
  {
   "cell_type": "code",
   "execution_count": null,
   "metadata": {},
   "outputs": [],
   "source": [
    "with open(\"models/non-linear-accelerometer-gyroscope.pcl\", \"wb\") as file:\n",
    "    pickle.dump(clf_lgb, file)"
   ]
  },
  {
   "cell_type": "code",
   "execution_count": null,
   "metadata": {},
   "outputs": [],
   "source": [
    "with open(\"models/linear-accelerometer-gyroscope.pcl\", \"wb\") as file:\n",
    "    pickle.dump(clf_svc, file)"
   ]
  },
  {
   "cell_type": "code",
   "execution_count": null,
   "metadata": {},
   "outputs": [],
   "source": []
  }
 ],
 "metadata": {
  "kernelspec": {
   "display_name": "Python 3",
   "language": "python",
   "name": "python3"
  },
  "language_info": {
   "codemirror_mode": {
    "name": "ipython",
    "version": 3
   },
   "file_extension": ".py",
   "mimetype": "text/x-python",
   "name": "python",
   "nbconvert_exporter": "python",
   "pygments_lexer": "ipython3",
   "version": "3.7.3"
  }
 },
 "nbformat": 4,
 "nbformat_minor": 4
}
